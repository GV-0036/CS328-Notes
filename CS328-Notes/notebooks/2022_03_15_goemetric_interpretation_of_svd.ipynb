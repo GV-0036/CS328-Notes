{
  "cells": [
    {
      "cell_type": "code",
      "execution_count": 1,
      "metadata": {},
      "outputs": [],
      "source": [
        "# new topic"
      ]
    },
    {
      "cell_type": "markdown",
      "metadata": {
        "id": "8L37SyShl0GD"
      },
      "source": [
        "\n",
        "<b>Goemetrical view of svd</b>\n",
        "\n",
        " \n",
        "\n",
        "<img src=\"../assets/2022_3_14_svd/goe.jpg\" height=\"400 px\" width=\"550 px\" />\n",
        "\n",
        "\n",
        "\n",
        "\n",
        "\n",
        "Fig credit: Math for CSLecture\n",
        "\n",
        "\n",
        "\n",
        "\n",
        "The above image shows how the points get linearly transformed by A, i.e. A v= σ u (equation 1)\n",
        "<br> \n",
        "svd says 3 important things about this transormation\n",
        "\n",
        "1.  The u<sub>i</sub> vectors in SVD decompostion of A form the axes of the new  transformed subspace\n",
        "2. the length of each axis is equal to coressponding σ<sub>i</sub> value\n",
        "3. the preimage of u<sub>i</sub> is the corresponding v<sub>i</sub> of the SVD of A (from equation 1)\n",
        "\n"
      ]
    },
    {
      "cell_type": "markdown",
      "metadata": {
        "id": "VpyUYSuMmGfI"
      },
      "source": [
        "<b>References</b>:\n",
        "\n",
        "https://ocw.mit.edu/courses/mathematics/18-06-linear-algebra-spring-2010/video-lectures/lecture-29-singular-value-decomposition/\n",
        "\n",
        "\"Spectral Learning on Matrices and Tensors\" textbook\n",
        "\n"
      ]
    },
    {
      "cell_type": "markdown",
      "metadata": {
        "id": "X-7STl74mIMC"
      },
      "source": [
        "**Implementation of SVD**"
      ]
    },
    {
      "cell_type": "markdown",
      "metadata": {
        "id": "1h3LKbH2mIPE"
      },
      "source": []
    },
    {
      "cell_type": "code",
      "execution_count": 2,
      "metadata": {
        "colab": {
          "base_uri": "https://localhost:8080/"
        },
        "id": "JKIS98ismWX-",
        "outputId": "e5c9b98b-1696-4e41-c4d8-ee7d47141b61"
      },
      "outputs": [
        {
          "data": {
            "text/plain": [
              "(array([[-0.69366543,  0.59343205, -0.40824829],\n",
              "        [-0.4427092 , -0.79833696, -0.40824829],\n",
              "        [-0.56818732, -0.10245245,  0.81649658]]),\n",
              " array([10.25142677,  2.62835484]),\n",
              " array([[-0.88033817, -0.47434662],\n",
              "        [ 0.47434662, -0.88033817]]))"
            ]
          },
          "execution_count": 2,
          "metadata": {},
          "output_type": "execute_result"
        }
      ],
      "source": [
        "import numpy as np\n",
        "A = np.array([[7, 2], [3, 4], [5, 3]])\n",
        "U, D, V = np.linalg.svd(A)                       # v here=v(Trans) in svd transpose actually \n",
        "U,D,V"
      ]
    },
    {
      "cell_type": "markdown",
      "metadata": {
        "id": "x10qZoJDmcwM"
      },
      "source": [
        "**Applications of Singular Value Decomposition (SVD)**</b>\n",
        "\n",
        "Image Compression</b>\n",
        "\n"
      ]
    },
    {
      "cell_type": "code",
      "execution_count": 3,
      "metadata": {
        "id": "Jb-9BstBmkCE"
      },
      "outputs": [],
      "source": [
        "import numpy as np\n",
        "import matplotlib.pyplot as plt\n",
        "#This line is required to display visualizations in the browser\n",
        "%matplotlib inline"
      ]
    },
    {
      "cell_type": "code",
      "execution_count": 4,
      "metadata": {
        "id": "48aF2B3XmmZR"
      },
      "outputs": [],
      "source": [
        "from skimage import data\n",
        "from skimage.color import rgb2gray\n",
        "from ipywidgets import interact,interactive,interact_manual"
      ]
    },
    {
      "cell_type": "code",
      "execution_count": 5,
      "metadata": {
        "id": "pgAjav4imnGE"
      },
      "outputs": [],
      "source": [
        "from skimage import img_as_ubyte,img_as_float\n",
        "gray_images = {\n",
        "        \"cat\":rgb2gray(img_as_float(data.chelsea())),\n",
        "        \"astro\":rgb2gray(img_as_float(data.astronaut())),\n",
        "        \"camera\":data.camera(),\n",
        "        \"coin\": data.coins(),\n",
        "        \"clock\":data.clock(),\n",
        "        \"blobs\":data.binary_blobs(),\n",
        "        \"coffee\":rgb2gray(img_as_float(data.coffee()))\n",
        "}"
      ]
    },
    {
      "cell_type": "code",
      "execution_count": 6,
      "metadata": {
        "id": "_iUck4mWmnI6"
      },
      "outputs": [],
      "source": [
        "from numpy.linalg import svd\n"
      ]
    },
    {
      "cell_type": "code",
      "execution_count": 7,
      "metadata": {
        "id": "ZdvAL42xmxcV"
      },
      "outputs": [],
      "source": [
        "def compress_svd(image,k):\n",
        "    \"\"\"\n",
        "    Perform svd decomposition and truncated (using k singular values/vectors) reconstruction\n",
        "    returns\n",
        "    --------\n",
        "      reconstructed matrix reconst_matrix, array of singular values s\n",
        "    \"\"\"\n",
        "    U,s,V = svd(image,full_matrices=False)\n",
        "    reconst_matrix = np.dot(U[:,:k],np.dot(np.diag(s[:k]),V[:k,:]))\n",
        "   \n",
        "    return reconst_matrix,s"
      ]
    },
    {
      "cell_type": "code",
      "execution_count": 8,
      "metadata": {
        "id": "-uUn5EgjmyBu"
      },
      "outputs": [],
      "source": [
        "def compress_show_gray_images(img_name,k):\n",
        "    \"\"\"\n",
        "     compresses gray scale images and display the reconstructed image.\n",
        "     Also displays a plot of singular values\n",
        "    \"\"\"\n",
        "    image=gray_images[img_name]\n",
        "    original_shape = image.shape\n",
        "    reconst_img,s = compress_svd(image,k)\n",
        "    fig,axes = plt.subplots(1,2,figsize=(8,5))\n",
        "    axes[0].plot(s)\n",
        "    compression_ratio =100.0* (k*(original_shape[0] + original_shape[1])+k)/(original_shape[0]*original_shape[1])\n",
        "    axes[1].set_title(\"compression ratio={:.2f}\".format(compression_ratio)+\"%\")\n",
        "    axes[1].imshow(reconst_img,cmap='gray')\n",
        "    axes[1].axis('off')\n",
        "    fig.tight_layout()\n",
        "    \n",
        "    \n",
        "    "
      ]
    },
    {
      "cell_type": "code",
      "execution_count": 9,
      "metadata": {
        "id": "3Bwn4wnkm6Yg"
      },
      "outputs": [],
      "source": [
        "import numpy as np \n",
        "def compute_k_max(img_name):\n",
        "  \"\"\"\n",
        "    utility function for calculating max value of the slider range\n",
        "  \"\"\"\n",
        "  img = gray_images[img_name]\n",
        "  m,n = img.shape\n",
        "  return m*n/(m+n+1)\n",
        "\n",
        "#set up the widgets\n",
        "import ipywidgets as widgets\n",
        "\n",
        "list_widget = widgets.Dropdown(options=list(gray_images.keys()))\n",
        "int_slider_widget = widgets.IntSlider(min=1,max=compute_k_max('cat'))\n",
        "def update_k_max(*args):\n",
        "  img_name=list_widget.value\n",
        "  int_slider_widget.max = compute_k_max(img_name)\n",
        "list_widget.observe(update_k_max,'value')\n",
        "\n",
        "\n"
      ]
    },
    {
      "cell_type": "code",
      "execution_count": 10,
      "metadata": {
        "colab": {
          "base_uri": "https://localhost:8080/",
          "height": 433,
          "referenced_widgets": [
            "88f02704c5bf4d118cad9cd17b47fb18",
            "e19e03c449b54b6089f58dd9eb0ac128",
            "596ec67b427249c991bd83e6bf6baa90",
            "3a5e51cf92004c88995a3fcc74dbfa7a",
            "a906512dc3d24b38b8c847c68a068e8c",
            "00247fbc8df14d6aa07f332468606d2a",
            "9b59cc0a07c34fb0865ca56771858180",
            "1434fd984aab49eb90011b38c8493e9c",
            "1770deb0ce6c4b678313157e4f8b5372",
            "47f099700fac4767bfc61bb7f697b929"
          ]
        },
        "id": "1QCUG312m6ab",
        "outputId": "05fbf6a1-989a-4766-a82f-18e15d84d43c"
      },
      "outputs": [
        {
          "data": {
            "application/vnd.jupyter.widget-view+json": {
              "model_id": "614960c7d2704eb2a41ef0354bcaebcc",
              "version_major": 2,
              "version_minor": 0
            },
            "text/plain": [
              "interactive(children=(Dropdown(description='img_name', options=('cat', 'astro', 'camera', 'coin', 'clock', 'bl…"
            ]
          },
          "metadata": {},
          "output_type": "display_data"
        }
      ],
      "source": [
        "interact(compress_show_gray_images,img_name=list_widget,k=int_slider_widget);"
      ]
    },
    {
      "cell_type": "markdown",
      "metadata": {
        "id": "hP712kYwnIR4"
      },
      "source": [
        "Reference :https://colab.research.google.com/drive/1HLJcLzWG46NlPMCgD_KdVLCl-k68mVp2#scrollTo=d35EdHEQpv-b"
      ]
    },
    {
      "cell_type": "markdown",
      "metadata": {
        "id": "v2ojvdH7nUZj"
      },
      "source": [
        "\n",
        "\n",
        "Image Recovery</b>\n",
        "\n"
      ]
    },
    {
      "cell_type": "markdown",
      "metadata": {
        "id": "8btdcPzfngHa"
      },
      "source": [
        "The process of filling in the missing items in a partly seen matrix is known as matrix completion. A well-known example of this is the Netflix dilemma.If customer I has viewed movie j and is otherwise unavailable, we'd want to anticipate the remaining entries in order to offer appropriate suggestions to consumers on what to watch next, given a ratings matrix in which each entry (i,j) indicates the rating of movie j by customer i.\n",
        "\n",
        "The fact that most users have a pattern in the movies they view and the ratings they give to these movies is a key factor in resolving this issue. As a result, the ratings matrix contains very little unique data. This implies that a low-rank matrix would be able to approximate the matrix well enough.\n",
        "\n",
        "<img src=\"../assets/2022_3_14_svd/ship.jpg\" /> \n",
        "\n",
        "Reference :https://www.analyticsvidhya.com/blog/2019/08/5-applications-singular-value-decomposition-svd-data-science/\n"
      ]
    },
    {
      "cell_type": "markdown",
      "metadata": {
        "id": "AVnMvdYrn_1y"
      },
      "source": [
        "Eigen faces</b>\n",
        "\n"
      ]
    },
    {
      "cell_type": "markdown",
      "metadata": {
        "id": "EkFqOkAqnkka"
      },
      "source": [
        "The encoding is accomplished by expressing each face in the new face space as a linear combination of the specified eigenfaces.\n",
        "\n",
        "<img src=\"../assets/2022_3_14_svd/face.png\" /> "
      ]
    },
    {
      "cell_type": "markdown",
      "metadata": {
        "id": "GQW3wKGFnw1J"
      },
      "source": [
        "\n",
        "Spectral Clustering</b>\n",
        "\n"
      ]
    },
    {
      "cell_type": "code",
      "execution_count": 11,
      "metadata": {
        "colab": {
          "base_uri": "https://localhost:8080/",
          "height": 513
        },
        "id": "63LOxTd-n6gN",
        "outputId": "44c6583f-814f-412a-c280-534f03bfa905"
      },
      "outputs": [
        {
          "data": {
            "image/png": "[encoded data removed]",
            "text/plain": [
              "<Figure size 432x288 with 1 Axes>"
            ]
          },
          "metadata": {
            "needs_background": "light"
          },
          "output_type": "display_data"
        },
        {
          "name": "stderr",
          "output_type": "stream",
          "text": [
            "D:\\anaconda\\lib\\site-packages\\sklearn\\manifold\\_spectral_embedding.py:245: UserWarning: Graph is not fully connected, spectral embedding may not work as expected.\n",
            "  warnings.warn(\"Graph is not fully connected, spectral embedding\"\n"
          ]
        },
        {
          "data": {
            "image/png": "[encoded data removed]",
            "text/plain": [
              "<Figure size 432x288 with 1 Axes>"
            ]
          },
          "metadata": {
            "needs_background": "light"
          },
          "output_type": "display_data"
        }
      ],
      "source": [
        "from sklearn.datasets import make_circles\n",
        "from sklearn.neighbors import kneighbors_graph\n",
        "from sklearn.cluster import SpectralClustering\n",
        "import numpy as np\n",
        "import matplotlib.pyplot as plt\n",
        "\n",
        "# generate your data\n",
        "X, labels = make_circles(n_samples=500, noise=0.1, factor=.2)\n",
        "\n",
        "# plot your data\n",
        "plt.scatter(X[:, 0], X[:, 1])\n",
        "plt.show()\n",
        "\n",
        "# train and predict\n",
        "s_cluster = SpectralClustering(n_clusters = 2, eigen_solver='arpack',\n",
        "        affinity=\"nearest_neighbors\").fit_predict(X)\n",
        "        \n",
        "# plot clustered data\n",
        "plt.scatter(X[:, 0], X[:, 1], c = s_cluster)\n",
        "plt.show()\n",
        "# source :Gitgub - rawspectral_clustering.py "
      ]
    }
  ],
  "metadata": {
    "colab": {
      "collapsed_sections": [],
      "name": "mar 15.ipynb",
      "provenance": []
    },
    "kernelspec": {
      "display_name": "Python 3",
      "name": "python3"
    },
    "language_info": {
      "codemirror_mode": {
        "name": "ipython",
        "version": 3
      },
      "file_extension": ".py",
      "mimetype": "text/x-python",
      "name": "python",
      "nbconvert_exporter": "python",
      "pygments_lexer": "ipython3",
      "version": "3.9.7"
    },
    "widgets": {
      "application/vnd.jupyter.widget-state+json": {
        "00247fbc8df14d6aa07f332468606d2a": {
          "model_module": "@jupyter-widgets/base",
          "model_module_version": "1.2.0",
          "model_name": "LayoutModel",
          "state": {
            "_model_module": "@jupyter-widgets/base",
            "_model_module_version": "1.2.0",
            "_model_name": "LayoutModel",
            "_view_count": null,
            "_view_module": "@jupyter-widgets/base",
            "_view_module_version": "1.2.0",
            "_view_name": "LayoutView",
            "align_content": null,
            "align_items": null,
            "align_self": null,
            "border": null,
            "bottom": null,
            "display": null,
            "flex": null,
            "flex_flow": null,
            "grid_area": null,
            "grid_auto_columns": null,
            "grid_auto_flow": null,
            "grid_auto_rows": null,
            "grid_column": null,
            "grid_gap": null,
            "grid_row": null,
            "grid_template_areas": null,
            "grid_template_columns": null,
            "grid_template_rows": null,
            "height": null,
            "justify_content": null,
            "justify_items": null,
            "left": null,
            "margin": null,
            "max_height": null,
            "max_width": null,
            "min_height": null,
            "min_width": null,
            "object_fit": null,
            "object_position": null,
            "order": null,
            "overflow": null,
            "overflow_x": null,
            "overflow_y": null,
            "padding": null,
            "right": null,
            "top": null,
            "visibility": null,
            "width": null
          }
        },
        "1434fd984aab49eb90011b38c8493e9c": {
          "model_module": "@jupyter-widgets/base",
          "model_module_version": "1.2.0",
          "model_name": "LayoutModel",
          "state": {
            "_model_module": "@jupyter-widgets/base",
            "_model_module_version": "1.2.0",
            "_model_name": "LayoutModel",
            "_view_count": null,
            "_view_module": "@jupyter-widgets/base",
            "_view_module_version": "1.2.0",
            "_view_name": "LayoutView",
            "align_content": null,
            "align_items": null,
            "align_self": null,
            "border": null,
            "bottom": null,
            "display": null,
            "flex": null,
            "flex_flow": null,
            "grid_area": null,
            "grid_auto_columns": null,
            "grid_auto_flow": null,
            "grid_auto_rows": null,
            "grid_column": null,
            "grid_gap": null,
            "grid_row": null,
            "grid_template_areas": null,
            "grid_template_columns": null,
            "grid_template_rows": null,
            "height": null,
            "justify_content": null,
            "justify_items": null,
            "left": null,
            "margin": null,
            "max_height": null,
            "max_width": null,
            "min_height": null,
            "min_width": null,
            "object_fit": null,
            "object_position": null,
            "order": null,
            "overflow": null,
            "overflow_x": null,
            "overflow_y": null,
            "padding": null,
            "right": null,
            "top": null,
            "visibility": null,
            "width": null
          }
        },
        "1770deb0ce6c4b678313157e4f8b5372": {
          "model_module": "@jupyter-widgets/controls",
          "model_module_version": "1.5.0",
          "model_name": "SliderStyleModel",
          "state": {
            "_model_module": "@jupyter-widgets/controls",
            "_model_module_version": "1.5.0",
            "_model_name": "SliderStyleModel",
            "_view_count": null,
            "_view_module": "@jupyter-widgets/base",
            "_view_module_version": "1.2.0",
            "_view_name": "StyleView",
            "description_width": "",
            "handle_color": null
          }
        },
        "3a5e51cf92004c88995a3fcc74dbfa7a": {
          "model_module": "@jupyter-widgets/output",
          "model_module_version": "1.0.0",
          "model_name": "OutputModel",
          "state": {
            "_dom_classes": [],
            "_model_module": "@jupyter-widgets/output",
            "_model_module_version": "1.0.0",
            "_model_name": "OutputModel",
            "_view_count": null,
            "_view_module": "@jupyter-widgets/output",
            "_view_module_version": "1.0.0",
            "_view_name": "OutputView",
            "layout": "IPY_MODEL_47f099700fac4767bfc61bb7f697b929",
            "msg_id": "",
            "outputs": [
              {
                "data": {
                  "image/png": "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\n",
                  "text/plain": "<Figure size 576x360 with 2 Axes>"
                },
                "metadata": {
                  "needs_background": "light"
                },
                "output_type": "display_data"
              }
            ]
          }
        },
        "47f099700fac4767bfc61bb7f697b929": {
          "model_module": "@jupyter-widgets/base",
          "model_module_version": "1.2.0",
          "model_name": "LayoutModel",
          "state": {
            "_model_module": "@jupyter-widgets/base",
            "_model_module_version": "1.2.0",
            "_model_name": "LayoutModel",
            "_view_count": null,
            "_view_module": "@jupyter-widgets/base",
            "_view_module_version": "1.2.0",
            "_view_name": "LayoutView",
            "align_content": null,
            "align_items": null,
            "align_self": null,
            "border": null,
            "bottom": null,
            "display": null,
            "flex": null,
            "flex_flow": null,
            "grid_area": null,
            "grid_auto_columns": null,
            "grid_auto_flow": null,
            "grid_auto_rows": null,
            "grid_column": null,
            "grid_gap": null,
            "grid_row": null,
            "grid_template_areas": null,
            "grid_template_columns": null,
            "grid_template_rows": null,
            "height": null,
            "justify_content": null,
            "justify_items": null,
            "left": null,
            "margin": null,
            "max_height": null,
            "max_width": null,
            "min_height": null,
            "min_width": null,
            "object_fit": null,
            "object_position": null,
            "order": null,
            "overflow": null,
            "overflow_x": null,
            "overflow_y": null,
            "padding": null,
            "right": null,
            "top": null,
            "visibility": null,
            "width": null
          }
        },
        "596ec67b427249c991bd83e6bf6baa90": {
          "model_module": "@jupyter-widgets/controls",
          "model_module_version": "1.5.0",
          "model_name": "IntSliderModel",
          "state": {
            "_dom_classes": [],
            "_model_module": "@jupyter-widgets/controls",
            "_model_module_version": "1.5.0",
            "_model_name": "IntSliderModel",
            "_view_count": null,
            "_view_module": "@jupyter-widgets/controls",
            "_view_module_version": "1.5.0",
            "_view_name": "IntSliderView",
            "continuous_update": true,
            "description": "k",
            "description_tooltip": null,
            "disabled": false,
            "layout": "IPY_MODEL_1434fd984aab49eb90011b38c8493e9c",
            "max": 179,
            "min": 1,
            "orientation": "horizontal",
            "readout": true,
            "readout_format": "d",
            "step": 1,
            "style": "IPY_MODEL_1770deb0ce6c4b678313157e4f8b5372",
            "value": 1
          }
        },
        "88f02704c5bf4d118cad9cd17b47fb18": {
          "model_module": "@jupyter-widgets/controls",
          "model_module_version": "1.5.0",
          "model_name": "VBoxModel",
          "state": {
            "_dom_classes": [
              "widget-interact"
            ],
            "_model_module": "@jupyter-widgets/controls",
            "_model_module_version": "1.5.0",
            "_model_name": "VBoxModel",
            "_view_count": null,
            "_view_module": "@jupyter-widgets/controls",
            "_view_module_version": "1.5.0",
            "_view_name": "VBoxView",
            "box_style": "",
            "children": [
              "IPY_MODEL_e19e03c449b54b6089f58dd9eb0ac128",
              "IPY_MODEL_596ec67b427249c991bd83e6bf6baa90",
              "IPY_MODEL_3a5e51cf92004c88995a3fcc74dbfa7a"
            ],
            "layout": "IPY_MODEL_a906512dc3d24b38b8c847c68a068e8c"
          }
        },
        "9b59cc0a07c34fb0865ca56771858180": {
          "model_module": "@jupyter-widgets/controls",
          "model_module_version": "1.5.0",
          "model_name": "DescriptionStyleModel",
          "state": {
            "_model_module": "@jupyter-widgets/controls",
            "_model_module_version": "1.5.0",
            "_model_name": "DescriptionStyleModel",
            "_view_count": null,
            "_view_module": "@jupyter-widgets/base",
            "_view_module_version": "1.2.0",
            "_view_name": "StyleView",
            "description_width": ""
          }
        },
        "a906512dc3d24b38b8c847c68a068e8c": {
          "model_module": "@jupyter-widgets/base",
          "model_module_version": "1.2.0",
          "model_name": "LayoutModel",
          "state": {
            "_model_module": "@jupyter-widgets/base",
            "_model_module_version": "1.2.0",
            "_model_name": "LayoutModel",
            "_view_count": null,
            "_view_module": "@jupyter-widgets/base",
            "_view_module_version": "1.2.0",
            "_view_name": "LayoutView",
            "align_content": null,
            "align_items": null,
            "align_self": null,
            "border": null,
            "bottom": null,
            "display": null,
            "flex": null,
            "flex_flow": null,
            "grid_area": null,
            "grid_auto_columns": null,
            "grid_auto_flow": null,
            "grid_auto_rows": null,
            "grid_column": null,
            "grid_gap": null,
            "grid_row": null,
            "grid_template_areas": null,
            "grid_template_columns": null,
            "grid_template_rows": null,
            "height": null,
            "justify_content": null,
            "justify_items": null,
            "left": null,
            "margin": null,
            "max_height": null,
            "max_width": null,
            "min_height": null,
            "min_width": null,
            "object_fit": null,
            "object_position": null,
            "order": null,
            "overflow": null,
            "overflow_x": null,
            "overflow_y": null,
            "padding": null,
            "right": null,
            "top": null,
            "visibility": null,
            "width": null
          }
        },
        "e19e03c449b54b6089f58dd9eb0ac128": {
          "model_module": "@jupyter-widgets/controls",
          "model_module_version": "1.5.0",
          "model_name": "DropdownModel",
          "state": {
            "_dom_classes": [],
            "_model_module": "@jupyter-widgets/controls",
            "_model_module_version": "1.5.0",
            "_model_name": "DropdownModel",
            "_options_labels": [
              "cat",
              "astro",
              "camera",
              "coin",
              "clock",
              "blobs",
              "coffee"
            ],
            "_view_count": null,
            "_view_module": "@jupyter-widgets/controls",
            "_view_module_version": "1.5.0",
            "_view_name": "DropdownView",
            "description": "img_name",
            "description_tooltip": null,
            "disabled": false,
            "index": 0,
            "layout": "IPY_MODEL_00247fbc8df14d6aa07f332468606d2a",
            "style": "IPY_MODEL_9b59cc0a07c34fb0865ca56771858180"
          }
        }
      }
    }
  },
  "nbformat": 4,
  "nbformat_minor": 0
}
